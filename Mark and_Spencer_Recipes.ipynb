{
 "cells": [
  {
   "cell_type": "code",
   "execution_count": 39,
   "id": "6912e116",
   "metadata": {
    "collapsed": true
   },
   "outputs": [
    {
     "name": "stdout",
     "output_type": "stream",
     "text": [
      "Requirement already satisfied: requests in c:\\users\\oyku_\\anaconda3\\lib\\site-packages (2.27.1)Note: you may need to restart the kernel to use updated packages.\n",
      "Requirement already satisfied: beautifulsoup4 in c:\\users\\oyku_\\anaconda3\\lib\\site-packages (4.11.1)\n",
      "Requirement already satisfied: selenium in c:\\users\\oyku_\\anaconda3\\lib\\site-packages (4.25.0)\n",
      "\n",
      "Requirement already satisfied: idna<4,>=2.5 in c:\\users\\oyku_\\anaconda3\\lib\\site-packages (from requests) (3.3)\n",
      "Requirement already satisfied: charset-normalizer~=2.0.0 in c:\\users\\oyku_\\anaconda3\\lib\\site-packages (from requests) (2.0.4)\n",
      "Requirement already satisfied: certifi>=2017.4.17 in c:\\users\\oyku_\\anaconda3\\lib\\site-packages (from requests) (2021.10.8)\n",
      "Requirement already satisfied: urllib3<1.27,>=1.21.1 in c:\\users\\oyku_\\anaconda3\\lib\\site-packages (from requests) (1.26.9)\n",
      "Requirement already satisfied: soupsieve>1.2 in c:\\users\\oyku_\\anaconda3\\lib\\site-packages (from beautifulsoup4) (2.3.1)\n",
      "Requirement already satisfied: typing_extensions~=4.9 in c:\\users\\oyku_\\anaconda3\\lib\\site-packages (from selenium) (4.10.0)\n",
      "Requirement already satisfied: trio-websocket~=0.9 in c:\\users\\oyku_\\anaconda3\\lib\\site-packages (from selenium) (0.11.1)\n",
      "Requirement already satisfied: trio~=0.17 in c:\\users\\oyku_\\anaconda3\\lib\\site-packages (from selenium) (0.26.2)\n",
      "Requirement already satisfied: websocket-client~=1.8 in c:\\users\\oyku_\\anaconda3\\lib\\site-packages (from selenium) (1.8.0)\n",
      "Requirement already satisfied: attrs>=23.2.0 in c:\\users\\oyku_\\anaconda3\\lib\\site-packages (from trio~=0.17->selenium) (24.2.0)\n",
      "Requirement already satisfied: cffi>=1.14 in c:\\users\\oyku_\\anaconda3\\lib\\site-packages (from trio~=0.17->selenium) (1.15.0)\n",
      "Requirement already satisfied: sniffio>=1.3.0 in c:\\users\\oyku_\\anaconda3\\lib\\site-packages (from trio~=0.17->selenium) (1.3.1)\n",
      "Requirement already satisfied: outcome in c:\\users\\oyku_\\anaconda3\\lib\\site-packages (from trio~=0.17->selenium) (1.3.0.post0)\n",
      "Requirement already satisfied: sortedcontainers in c:\\users\\oyku_\\anaconda3\\lib\\site-packages (from trio~=0.17->selenium) (2.4.0)\n",
      "Requirement already satisfied: exceptiongroup in c:\\users\\oyku_\\anaconda3\\lib\\site-packages (from trio~=0.17->selenium) (1.2.2)\n",
      "Requirement already satisfied: pycparser in c:\\users\\oyku_\\anaconda3\\lib\\site-packages (from cffi>=1.14->trio~=0.17->selenium) (2.21)\n",
      "Requirement already satisfied: wsproto>=0.14 in c:\\users\\oyku_\\anaconda3\\lib\\site-packages (from trio-websocket~=0.9->selenium) (1.2.0)\n",
      "Requirement already satisfied: PySocks!=1.5.7,<2.0,>=1.5.6 in c:\\users\\oyku_\\anaconda3\\lib\\site-packages (from urllib3<1.27,>=1.21.1->requests) (1.7.1)\n",
      "Requirement already satisfied: h11<1,>=0.9.0 in c:\\users\\oyku_\\anaconda3\\lib\\site-packages (from wsproto>=0.14->trio-websocket~=0.9->selenium) (0.14.0)\n"
     ]
    }
   ],
   "source": [
    "pip install requests beautifulsoup4 selenium\n"
   ]
  },
  {
   "cell_type": "code",
   "execution_count": 46,
   "id": "9274f5a3",
   "metadata": {
    "collapsed": true
   },
   "outputs": [
    {
     "name": "stdout",
     "output_type": "stream",
     "text": [
      "Collecting webdriver_manager\n",
      "  Downloading webdriver_manager-4.0.2-py2.py3-none-any.whl (27 kB)\n",
      "Requirement already satisfied: requests in c:\\users\\oyku_\\anaconda3\\lib\\site-packages (from webdriver_manager) (2.27.1)\n",
      "Requirement already satisfied: packaging in c:\\users\\oyku_\\anaconda3\\lib\\site-packages (from webdriver_manager) (21.3)\n",
      "Collecting python-dotenv\n",
      "  Using cached python_dotenv-1.0.1-py3-none-any.whl (19 kB)\n",
      "Requirement already satisfied: pyparsing!=3.0.5,>=2.0.2 in c:\\users\\oyku_\\anaconda3\\lib\\site-packages (from packaging->webdriver_manager) (3.0.4)\n",
      "Requirement already satisfied: certifi>=2017.4.17 in c:\\users\\oyku_\\anaconda3\\lib\\site-packages (from requests->webdriver_manager) (2021.10.8)\n",
      "Requirement already satisfied: charset-normalizer~=2.0.0 in c:\\users\\oyku_\\anaconda3\\lib\\site-packages (from requests->webdriver_manager) (2.0.4)\n",
      "Requirement already satisfied: urllib3<1.27,>=1.21.1 in c:\\users\\oyku_\\anaconda3\\lib\\site-packages (from requests->webdriver_manager) (1.26.9)\n",
      "Requirement already satisfied: idna<4,>=2.5 in c:\\users\\oyku_\\anaconda3\\lib\\site-packages (from requests->webdriver_manager) (3.3)\n",
      "Installing collected packages: python-dotenv, webdriver-manager\n",
      "Successfully installed python-dotenv-1.0.1 webdriver-manager-4.0.2\n",
      "Note: you may need to restart the kernel to use updated packages.\n"
     ]
    }
   ],
   "source": [
    "pip install webdriver_manager"
   ]
  },
  {
   "cell_type": "code",
   "execution_count": 48,
   "id": "2903aaae",
   "metadata": {
    "collapsed": true
   },
   "outputs": [
    {
     "ename": "NoSuchWindowException",
     "evalue": "Message: no such window: target window already closed\nfrom unknown error: web view not found\n  (Session info: chrome=129.0.6668.70)\nStacktrace:\n\tGetHandleVerifier [0x00007FF7B7F6B125+29573]\n\t(No symbol) [0x00007FF7B7EDFF50]\n\t(No symbol) [0x00007FF7B7D9B6EA]\n\t(No symbol) [0x00007FF7B7D6FCD5]\n\t(No symbol) [0x00007FF7B7E1EF67]\n\t(No symbol) [0x00007FF7B7E37FC1]\n\t(No symbol) [0x00007FF7B7E170A3]\n\t(No symbol) [0x00007FF7B7DE12DF]\n\t(No symbol) [0x00007FF7B7DE2441]\n\tGetHandleVerifier [0x00007FF7B829C76D+3377613]\n\tGetHandleVerifier [0x00007FF7B82E7B67+3685831]\n\tGetHandleVerifier [0x00007FF7B82DCF8B+3641835]\n\tGetHandleVerifier [0x00007FF7B802B2A6+816390]\n\t(No symbol) [0x00007FF7B7EEB25F]\n\t(No symbol) [0x00007FF7B7EE7084]\n\t(No symbol) [0x00007FF7B7EE7220]\n\t(No symbol) [0x00007FF7B7ED607F]\n\tBaseThreadInitThunk [0x00007FFDD03F7374+20]\n\tRtlUserThreadStart [0x00007FFDD21FCC91+33]\n",
     "output_type": "error",
     "traceback": [
      "\u001b[1;31m---------------------------------------------------------------------------\u001b[0m",
      "\u001b[1;31mNoSuchWindowException\u001b[0m                     Traceback (most recent call last)",
      "Input \u001b[1;32mIn [48]\u001b[0m, in \u001b[0;36m<cell line: 18>\u001b[1;34m()\u001b[0m\n\u001b[0;32m     20\u001b[0m time\u001b[38;5;241m.\u001b[39msleep(scroll_pause_time)\n\u001b[0;32m     22\u001b[0m \u001b[38;5;66;03m# Check if reaching the end of the page\u001b[39;00m\n\u001b[1;32m---> 23\u001b[0m scroll_height \u001b[38;5;241m=\u001b[39m \u001b[43mdriver\u001b[49m\u001b[38;5;241;43m.\u001b[39;49m\u001b[43mexecute_script\u001b[49m\u001b[43m(\u001b[49m\u001b[38;5;124;43m\"\u001b[39;49m\u001b[38;5;124;43mreturn document.body.scrollHeight;\u001b[39;49m\u001b[38;5;124;43m\"\u001b[39;49m\u001b[43m)\u001b[49m\n\u001b[0;32m     24\u001b[0m \u001b[38;5;28;01mif\u001b[39;00m screen_height \u001b[38;5;241m*\u001b[39m i \u001b[38;5;241m>\u001b[39m scroll_height:\n\u001b[0;32m     25\u001b[0m     \u001b[38;5;28;01mbreak\u001b[39;00m\n",
      "File \u001b[1;32m~\\anaconda3\\lib\\site-packages\\selenium\\webdriver\\remote\\webdriver.py:414\u001b[0m, in \u001b[0;36mWebDriver.execute_script\u001b[1;34m(self, script, *args)\u001b[0m\n\u001b[0;32m    411\u001b[0m converted_args \u001b[38;5;241m=\u001b[39m \u001b[38;5;28mlist\u001b[39m(args)\n\u001b[0;32m    412\u001b[0m command \u001b[38;5;241m=\u001b[39m Command\u001b[38;5;241m.\u001b[39mW3C_EXECUTE_SCRIPT\n\u001b[1;32m--> 414\u001b[0m \u001b[38;5;28;01mreturn\u001b[39;00m \u001b[38;5;28;43mself\u001b[39;49m\u001b[38;5;241;43m.\u001b[39;49m\u001b[43mexecute\u001b[49m\u001b[43m(\u001b[49m\u001b[43mcommand\u001b[49m\u001b[43m,\u001b[49m\u001b[43m \u001b[49m\u001b[43m{\u001b[49m\u001b[38;5;124;43m\"\u001b[39;49m\u001b[38;5;124;43mscript\u001b[39;49m\u001b[38;5;124;43m\"\u001b[39;49m\u001b[43m:\u001b[49m\u001b[43m \u001b[49m\u001b[43mscript\u001b[49m\u001b[43m,\u001b[49m\u001b[43m \u001b[49m\u001b[38;5;124;43m\"\u001b[39;49m\u001b[38;5;124;43margs\u001b[39;49m\u001b[38;5;124;43m\"\u001b[39;49m\u001b[43m:\u001b[49m\u001b[43m \u001b[49m\u001b[43mconverted_args\u001b[49m\u001b[43m}\u001b[49m\u001b[43m)\u001b[49m[\u001b[38;5;124m\"\u001b[39m\u001b[38;5;124mvalue\u001b[39m\u001b[38;5;124m\"\u001b[39m]\n",
      "File \u001b[1;32m~\\anaconda3\\lib\\site-packages\\selenium\\webdriver\\remote\\webdriver.py:354\u001b[0m, in \u001b[0;36mWebDriver.execute\u001b[1;34m(self, driver_command, params)\u001b[0m\n\u001b[0;32m    352\u001b[0m response \u001b[38;5;241m=\u001b[39m \u001b[38;5;28mself\u001b[39m\u001b[38;5;241m.\u001b[39mcommand_executor\u001b[38;5;241m.\u001b[39mexecute(driver_command, params)\n\u001b[0;32m    353\u001b[0m \u001b[38;5;28;01mif\u001b[39;00m response:\n\u001b[1;32m--> 354\u001b[0m     \u001b[38;5;28;43mself\u001b[39;49m\u001b[38;5;241;43m.\u001b[39;49m\u001b[43merror_handler\u001b[49m\u001b[38;5;241;43m.\u001b[39;49m\u001b[43mcheck_response\u001b[49m\u001b[43m(\u001b[49m\u001b[43mresponse\u001b[49m\u001b[43m)\u001b[49m\n\u001b[0;32m    355\u001b[0m     response[\u001b[38;5;124m\"\u001b[39m\u001b[38;5;124mvalue\u001b[39m\u001b[38;5;124m\"\u001b[39m] \u001b[38;5;241m=\u001b[39m \u001b[38;5;28mself\u001b[39m\u001b[38;5;241m.\u001b[39m_unwrap_value(response\u001b[38;5;241m.\u001b[39mget(\u001b[38;5;124m\"\u001b[39m\u001b[38;5;124mvalue\u001b[39m\u001b[38;5;124m\"\u001b[39m, \u001b[38;5;28;01mNone\u001b[39;00m))\n\u001b[0;32m    356\u001b[0m     \u001b[38;5;28;01mreturn\u001b[39;00m response\n",
      "File \u001b[1;32m~\\anaconda3\\lib\\site-packages\\selenium\\webdriver\\remote\\errorhandler.py:229\u001b[0m, in \u001b[0;36mErrorHandler.check_response\u001b[1;34m(self, response)\u001b[0m\n\u001b[0;32m    227\u001b[0m         alert_text \u001b[38;5;241m=\u001b[39m value[\u001b[38;5;124m\"\u001b[39m\u001b[38;5;124malert\u001b[39m\u001b[38;5;124m\"\u001b[39m]\u001b[38;5;241m.\u001b[39mget(\u001b[38;5;124m\"\u001b[39m\u001b[38;5;124mtext\u001b[39m\u001b[38;5;124m\"\u001b[39m)\n\u001b[0;32m    228\u001b[0m     \u001b[38;5;28;01mraise\u001b[39;00m exception_class(message, screen, stacktrace, alert_text)  \u001b[38;5;66;03m# type: ignore[call-arg]  # mypy is not smart enough here\u001b[39;00m\n\u001b[1;32m--> 229\u001b[0m \u001b[38;5;28;01mraise\u001b[39;00m exception_class(message, screen, stacktrace)\n",
      "\u001b[1;31mNoSuchWindowException\u001b[0m: Message: no such window: target window already closed\nfrom unknown error: web view not found\n  (Session info: chrome=129.0.6668.70)\nStacktrace:\n\tGetHandleVerifier [0x00007FF7B7F6B125+29573]\n\t(No symbol) [0x00007FF7B7EDFF50]\n\t(No symbol) [0x00007FF7B7D9B6EA]\n\t(No symbol) [0x00007FF7B7D6FCD5]\n\t(No symbol) [0x00007FF7B7E1EF67]\n\t(No symbol) [0x00007FF7B7E37FC1]\n\t(No symbol) [0x00007FF7B7E170A3]\n\t(No symbol) [0x00007FF7B7DE12DF]\n\t(No symbol) [0x00007FF7B7DE2441]\n\tGetHandleVerifier [0x00007FF7B829C76D+3377613]\n\tGetHandleVerifier [0x00007FF7B82E7B67+3685831]\n\tGetHandleVerifier [0x00007FF7B82DCF8B+3641835]\n\tGetHandleVerifier [0x00007FF7B802B2A6+816390]\n\t(No symbol) [0x00007FF7B7EEB25F]\n\t(No symbol) [0x00007FF7B7EE7084]\n\t(No symbol) [0x00007FF7B7EE7220]\n\t(No symbol) [0x00007FF7B7ED607F]\n\tBaseThreadInitThunk [0x00007FFDD03F7374+20]\n\tRtlUserThreadStart [0x00007FFDD21FCC91+33]\n"
     ]
    }
   ],
   "source": [
    "from bs4 import BeautifulSoup\n",
    "from selenium import webdriver\n",
    "import time\n",
    "\n",
    "# Initialize WebDriver\n",
    "driver = webdriver.Chrome()  # You should replace this with the appropriate web driver you're using (Chrome, Firefox, etc.)\n",
    "\n",
    "# Open the URL of the webpage\n",
    "url = \"https://www.marksandspencer.com/c/food-and-wine/cooking/search/?filters=[]#/\"\n",
    "driver.get(url)\n",
    "\n",
    "# Automatically scroll the page\n",
    "scroll_pause_time = 2  # Pause between each scroll\n",
    "screen_height = driver.execute_script(\"return window.screen.height;\")  # Browser window height\n",
    "i = 1\n",
    "while True:\n",
    "    # Scroll down\n",
    "    driver.execute_script(f\"window.scrollTo(0, {screen_height * i});\")\n",
    "    i += 1\n",
    "    time.sleep(scroll_pause_time)\n",
    "\n",
    "    # Check if reaching the end of the page\n",
    "    scroll_height = driver.execute_script(\"return document.body.scrollHeight;\")\n",
    "    if screen_height * i > scroll_height:\n",
    "        break\n",
    "\n",
    "# Fetch the data using BeautifulSoup after all data is loaded\n",
    "soup = BeautifulSoup(driver.page_source, \"html.parser\")\n",
    "# Process and save the data as needed\n",
    "\n",
    "# Close the WebDriver session\n",
    "driver.quit()"
   ]
  },
  {
   "cell_type": "code",
   "execution_count": null,
   "id": "186857b4",
   "metadata": {},
   "outputs": [],
   "source": []
  }
 ],
 "metadata": {
  "kernelspec": {
   "display_name": "Python 3 (ipykernel)",
   "language": "python",
   "name": "python3"
  },
  "language_info": {
   "codemirror_mode": {
    "name": "ipython",
    "version": 3
   },
   "file_extension": ".py",
   "mimetype": "text/x-python",
   "name": "python",
   "nbconvert_exporter": "python",
   "pygments_lexer": "ipython3",
   "version": "3.9.12"
  }
 },
 "nbformat": 4,
 "nbformat_minor": 5
}
