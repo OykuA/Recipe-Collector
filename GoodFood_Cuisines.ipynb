{
 "cells": [
  {
   "cell_type": "code",
   "execution_count": 4,
   "id": "525dce46-9e35-4b12-a257-5f93dbf51f7a",
   "metadata": {},
   "outputs": [],
   "source": [
    "import requests\n",
    "from bs4 import BeautifulSoup \n",
    "import csv\n",
    "import time\n",
    "import pandas"
   ]
  },
  {
   "cell_type": "code",
   "execution_count": 5,
   "id": "f1df61de-88bf-49db-a512-33eea147ea9d",
   "metadata": {},
   "outputs": [],
   "source": [
    "base_url = \"https://www.bbcgoodfood.com/recipes/category/cuisine-collections?page=1\"\n",
    "\n",
    "# Function to scrape recipe data from a single page\n",
    "def scrape_recipes(url):\n",
    "    response = requests.get(url)\n",
    "    if response.status_code == 200:\n",
    "        html = response.text\n",
    "        soup = BeautifulSoup(html, 'html.parser')\n",
    "        \n",
    "        recipes = []\n",
    "        recipe_elements = soup.find_all('a', class_='link d-block')\n",
    "        \n",
    "        for recipe in recipe_elements:\n",
    "            recipe_title = recipe.text.strip()\n",
    "            recipe_url = f\"https://www.bbcgoodfood.com{recipe['href']}\"\n",
    "            \n",
    "            recipes.append({\n",
    "                'Title': recipe_title,\n",
    "                'URL': recipe_url\n",
    "            })\n",
    "        \n",
    "        return recipes\n",
    "    else:\n",
    "        print(f\"Failed to retrieve page: {response.status_code}\")\n",
    "        return []"
   ]
  },
  {
   "cell_type": "code",
   "execution_count": 6,
   "id": "da5d0f55-0471-441a-b5f0-bb67d0d798e3",
   "metadata": {},
   "outputs": [
    {
     "name": "stdout",
     "output_type": "stream",
     "text": [
      "Saved 121 recipes to bbc_good_food_recipes.csv\n"
     ]
    }
   ],
   "source": [
    "# Function to write recipes to CSV\n",
    "def write_to_csv(recipes, filename):\n",
    "    fields = ['Title', 'URL']\n",
    "    with open(filename, 'w', newline='', encoding='utf-8') as csvfile:\n",
    "        writer = csv.DictWriter(csvfile, fieldnames=fields)\n",
    "        writer.writeheader()\n",
    "        writer.writerows(recipes)\n",
    "    print(f\"Saved {len(recipes)} recipes to {filename}\")\n",
    "\n",
    "# Main function to scrape multiple pages and write to CSV\n",
    "def main():\n",
    "    all_recipes = []\n",
    "    for page_num in range(1, 6):  # scraping pages 1 to 5 for example\n",
    "        url = f\"https://www.bbcgoodfood.com/recipes/category/cuisine-collections?page={page_num}\"\n",
    "        recipes = scrape_recipes(url)\n",
    "        all_recipes.extend(recipes)\n",
    "    \n",
    "    write_to_csv(all_recipes, 'bbc_good_food_recipes.csv')\n",
    "\n",
    "if __name__ == \"__main__\":\n",
    "    main()"
   ]
  },
  {
   "cell_type": "code",
   "execution_count": null,
   "id": "32b9534f-1136-45a7-9a9b-f8698baff582",
   "metadata": {},
   "outputs": [],
   "source": []
  }
 ],
 "metadata": {
  "kernelspec": {
   "display_name": "Python 3 (ipykernel)",
   "language": "python",
   "name": "python3"
  },
  "language_info": {
   "codemirror_mode": {
    "name": "ipython",
    "version": 3
   },
   "file_extension": ".py",
   "mimetype": "text/x-python",
   "name": "python",
   "nbconvert_exporter": "python",
   "pygments_lexer": "ipython3",
   "version": "3.9.12"
  }
 },
 "nbformat": 4,
 "nbformat_minor": 5
}
