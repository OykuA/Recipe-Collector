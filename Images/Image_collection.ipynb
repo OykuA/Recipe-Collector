{
 "cells": [
  {
   "cell_type": "code",
   "execution_count": 4,
   "metadata": {},
   "outputs": [
    {
     "name": "stdout",
     "output_type": "stream",
     "text": [
      "Downloaded: images_liv_wan\\liv-rectangle-logo.png\n",
      "Downloaded: images_liv_wan\\liv-rectangle-logo.png\n",
      "Downloaded: images_liv_wan\\shakshuka.jpg\n",
      "Downloaded: images_liv_wan\\peanut-butter-drizzle-pancakes.jpg\n",
      "Downloaded: images_liv_wan\\Elderflower-Panna-Cotta-with-Summer-Berries-illustration.jpg\n",
      "Downloaded: images_liv_wan\\Figlicious-goat-cheese-mousse-sandwich-illustration.jpg\n",
      "Downloaded: images_liv_wan\\french-food-illustrations.jpg\n",
      "Downloaded: images_liv_wan\\Heirloom-Tomato-Caprese-Garlic-Bread-Recipe-Illustration.jpg\n",
      "Downloaded: images_liv_wan\\Orange-tuna-Quinoa-Salad-illustration-2.jpg\n",
      "Downloaded: images_liv_wan\\Summer-Veggie-Tart-Illustration-2.jpg\n",
      "Downloaded: images_liv_wan\\Russian-Berries-Mules-illustration.jpg\n",
      "Downloaded: images_liv_wan\\Scallops-with-Chorizo-and-Broad-Beans-Recipe-illustration.jpg\n",
      "Downloaded: images_liv_wan\\Summer-Veggie-Tart-Illustration.jpg\n",
      "Downloaded: images_liv_wan\\Orange-tuna-Quinoa-Salad-illustration.jpg\n",
      "Downloaded: images_liv_wan\\eco-art-thumb-400x250.jpg\n",
      "Downloaded: images_liv_wan\\birthday-thumb-400x250.jpg\n",
      "Downloaded: images_liv_wan\\chinese-new-year-400x250.jpg\n",
      "Downloaded: images_liv_wan\\placeholder.png\n",
      "Downloaded: images_liv_wan\\placeholder.png\n",
      "Downloaded: images_liv_wan\\placeholder.png\n",
      "Downloaded: images_liv_wan\\placeholder.png\n",
      "Downloaded: images_liv_wan\\placeholder.png\n",
      "Downloaded: images_liv_wan\\placeholder.png\n",
      "Downloaded: images_liv_wan\\liv-footer-logo.png\n"
     ]
    }
   ],
   "source": [
    "import requests\n",
    "from bs4 import BeautifulSoup\n",
    "import os\n",
    "\n",
    "\n",
    "\n",
    "def scrape_images(url, folder_name='images_liv_wan'):\n",
    "    headers = {        \"User-Agent\": \"Mozilla/5.0 (Windows NT 10.0; Win64; x64) AppleWebKit/537.36 (KHTML, like Gecko) Chrome/91.0.4472.124 Safari/537.36\"\n",
    "} #Make it apper its coming from a real browser\n",
    "    if not os.path.exists(folder_name):\n",
    "        os.makedirs(folder_name)\n",
    "    \n",
    "    response = requests.get(url, headers=headers)\n",
    "    if response.status_code != 200:\n",
    "        print(f\"Failed to retrieve the page. Status code: {response.status_code}\")\n",
    "        return\n",
    "\n",
    "    soup = BeautifulSoup(response.content, 'html.parser')\n",
    "\n",
    "    img_tags = soup.find_all('img')\n",
    "\n",
    "    for img in img_tags:\n",
    "        img_url = img.get('src')\n",
    "        \n",
    "        if img_url.startswith('/'):\n",
    "            img_url = url + img_url\n",
    "        \n",
    "        try:\n",
    "            img_data = requests.get(img_url, headers=headers).content\n",
    "            img_name = os.path.join(folder_name, img_url.split('/')[-1])\n",
    "            \n",
    "            with open(img_name, 'wb') as f:\n",
    "                f.write(img_data)\n",
    "            print(f\"Downloaded: {img_name}\")\n",
    "        except Exception as e:\n",
    "            print(f\"Could not download {img_url}. Reason: {e}\")\n",
    "\n",
    "scrape_images('https://livwanillustration.com/project/recipe-illustrations/')  \n"
   ]
  }
 ],
 "metadata": {
  "kernelspec": {
   "display_name": "Python 3",
   "language": "python",
   "name": "python3"
  },
  "language_info": {
   "codemirror_mode": {
    "name": "ipython",
    "version": 3
   },
   "file_extension": ".py",
   "mimetype": "text/x-python",
   "name": "python",
   "nbconvert_exporter": "python",
   "pygments_lexer": "ipython3",
   "version": "3.10.0"
  }
 },
 "nbformat": 4,
 "nbformat_minor": 2
}
